{
 "cells": [
  {
   "cell_type": "code",
   "execution_count": 248,
   "id": "2b4ceba2",
   "metadata": {},
   "outputs": [
    {
     "name": "stdout",
     "output_type": "stream",
     "text": [
      "simba I bet you're Impressively Intelligent!\n",
      "ariel I bet you're Impressively Intelligent!\n",
      "pumba U are so Uniquely U\n",
      "flounder U are so Uniquely U\n",
      "Ehh, a's and e's are so ordinary\n",
      "ursula U are so Uniquely U\n",
      "Ehh, a's and e's are so ordinary\n",
      "flotsam O My! How Original!\n",
      "timon I bet you're Impressively Intelligent!\n"
     ]
    }
   ],
   "source": [
    "disney_characters = [\"simba\", \"ariel\", \"pumba\", \"flounder\", \"nala\", \"ursula\", \"scar\", \"flotsam\", \"timon\"]\n",
    "\n",
    "for my_string in range(len(disney_characters)):\n",
    "    if 'u' in disney_characters[my_string]:\n",
    "        print(disney_characters[my_string],\"U are so Uniquely U\")\n",
    "    elif \"i\" in disney_characters[my_string]:\n",
    "        print(disney_characters[my_string],\"I bet you're Impressively Intelligent!\")\n",
    "    elif \"o\" in disney_characters[my_string]:\n",
    "        print(disney_characters[my_string],\"O My! How Original!\")\n",
    "    else:\n",
    "        print(\"Ehh, a's and e's are so ordinary\")\n",
    "\n"
   ]
  },
  {
   "cell_type": "code",
   "execution_count": 242,
   "id": "b9575383",
   "metadata": {},
   "outputs": [
    {
     "name": "stdout",
     "output_type": "stream",
     "text": [
      "I bet you're Impressively Intelligent!\n",
      "I bet you're Impressively Intelligent!\n",
      "U are so Uniquely U\n",
      "U are so Uniquely U\n",
      "Ehh, a's and e's are so ordinary\n",
      "U are so Uniquely U\n",
      "Ehh, a's and e's are so ordinary\n",
      "O My! How Original!\n",
      "I bet you're Impressively Intelligent!\n"
     ]
    }
   ],
   "source": [
    "disney_characters = [\"simba\", \"ariel\", \"pumba\", \"flounder\", \"nala\", \"ursula\", \"scar\", \"flotsam\", \"timon\"]\n",
    "\n",
    "for my_list in disney_characters:\n",
    "    if \"u\" in my_list:\n",
    "        print(\"U are so Uniquely U\")\n",
    "    elif \"i\" in my_list:\n",
    "        print(\"I bet you're Impressively Intelligent!\")\n",
    "    elif \"o\" in my_list:\n",
    "        print(\"O My! How Original!\")\n",
    "    else:\n",
    "        print(\"Ehh, a's and e's are so ordinary\")\n",
    "        \n",
    "        \n",
    "#for days in range(len(my_list)):\n",
    " #   print(my_list[days])"
   ]
  },
  {
   "cell_type": "markdown",
   "id": "42d8e2fb",
   "metadata": {},
   "source": [
    "Solution 2\n"
   ]
  },
  {
   "cell_type": "code",
   "execution_count": 216,
   "id": "e3f09902",
   "metadata": {},
   "outputs": [
    {
     "name": "stdout",
     "output_type": "stream",
     "text": [
      "The temperature is 90 crack the AC!\n",
      "The temperature is 87 crack the AC!\n",
      "The temperature is 84 crack the AC!\n",
      "The temperature is 81 crack the AC!\n",
      "The temperature is 78 crack the AC!\n",
      "75  Ahh, that's better.\n"
     ]
    }
   ],
   "source": [
    "temperature = 90\n",
    "\n",
    "while temperature > 75 :\n",
    "    print(\"The temperature is\",temperature, \"crack the AC!\")\n",
    "    temperature = temperature - 3\n",
    "    \n",
    "    if temperature == 75:\n",
    "        print(temperature,\" Ahh, that's better.\")\n",
    "    \n"
   ]
  },
  {
   "cell_type": "code",
   "execution_count": null,
   "id": "3b198c90",
   "metadata": {},
   "outputs": [],
   "source": []
  }
 ],
 "metadata": {
  "kernelspec": {
   "display_name": "Python 3 (ipykernel)",
   "language": "python",
   "name": "python3"
  },
  "language_info": {
   "codemirror_mode": {
    "name": "ipython",
    "version": 3
   },
   "file_extension": ".py",
   "mimetype": "text/x-python",
   "name": "python",
   "nbconvert_exporter": "python",
   "pygments_lexer": "ipython3",
   "version": "3.9.12"
  }
 },
 "nbformat": 4,
 "nbformat_minor": 5
}
