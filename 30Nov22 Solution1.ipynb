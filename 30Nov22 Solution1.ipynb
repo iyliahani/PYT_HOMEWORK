{
 "cells": [
  {
   "cell_type": "code",
   "execution_count": 34,
   "id": "911e172e",
   "metadata": {},
   "outputs": [],
   "source": [
    "# My favorite romance movies\n",
    "# title, release year, runtime, tagline, main characters\n",
    "romantic_movie1 = (\"The Princess Bride\", 1987, 98, \"The story of a man and a woman who lived happily ever after.\", [\"Buttercup\", \"Westley\", \"Fezzik\", \"Inigo Montoya\",\"Vizzini\"])\n",
    "romantic_movie2 = (\"Groundhog Day\", 1993, 101, \"He's having the day of his life…over and over again.\", [\"Phil Connors\"])\n",
    "romantic_movie3 = (\"Amélie\", 2001, 122, \"One person can change your life forever.\",[\"Amélie Poulain\", \"Nino Quincampoix\", \"The Garden Gnome\"])"
   ]
  },
  {
   "cell_type": "code",
   "execution_count": 35,
   "id": "c1d7b011",
   "metadata": {},
   "outputs": [
    {
     "name": "stdout",
     "output_type": "stream",
     "text": [
      "Here are my favorite romance movies:\n"
     ]
    }
   ],
   "source": [
    "print('Here are my favorite romance movies:')\n"
   ]
  },
  {
   "cell_type": "code",
   "execution_count": 36,
   "id": "2efbee55",
   "metadata": {},
   "outputs": [
    {
     "name": "stdout",
     "output_type": "stream",
     "text": [
      "The Princess Bride\n",
      "1987\n",
      "98\n",
      "The story of a man and a woman who lived happily ever after.\n",
      "['Buttercup', 'Westley', 'Fezzik', 'Inigo Montoya', 'Vizzini']\n"
     ]
    }
   ],
   "source": [
    "#print(romantic_movie1[0], \"(\",romantic_movie1[1],\")\",':',romantic_movie1[3])\n",
    "\n",
    "for x in range (len(romantic_movie1)):\n",
    "    print(romantic_movie1[x])"
   ]
  },
  {
   "cell_type": "code",
   "execution_count": 37,
   "id": "52b7287c",
   "metadata": {},
   "outputs": [
    {
     "name": "stdout",
     "output_type": "stream",
     "text": [
      "The Princess Bride Groundhog Day The Princess Bride\n",
      "1987 1993 1987\n",
      "98 101 98\n",
      "The story of a man and a woman who lived happily ever after. He's having the day of his life…over and over again. The story of a man and a woman who lived happily ever after.\n",
      "['Buttercup', 'Westley', 'Fezzik', 'Inigo Montoya', 'Vizzini'] ['Phil Connors'] ['Buttercup', 'Westley', 'Fezzik', 'Inigo Montoya', 'Vizzini']\n"
     ]
    }
   ],
   "source": [
    "for m1, m2, m3 in zip(romantic_movie1, romantic_movie2, romantic_movie1):\n",
    "    print (m1, m2, m3)"
   ]
  },
  {
   "cell_type": "code",
   "execution_count": 43,
   "id": "56f009f7",
   "metadata": {},
   "outputs": [
    {
     "ename": "TypeError",
     "evalue": "argument of type 'int' is not iterable",
     "output_type": "error",
     "traceback": [
      "\u001b[1;31m---------------------------------------------------------------------------\u001b[0m",
      "\u001b[1;31mTypeError\u001b[0m                                 Traceback (most recent call last)",
      "Input \u001b[1;32mIn [43]\u001b[0m, in \u001b[0;36m<cell line: 1>\u001b[1;34m()\u001b[0m\n\u001b[0;32m      1\u001b[0m \u001b[38;5;28;01mfor\u001b[39;00m mylist \u001b[38;5;129;01min\u001b[39;00m \u001b[38;5;28mrange\u001b[39m (\u001b[38;5;28mlen\u001b[39m(romantic_movie1)):\n\u001b[1;32m----> 2\u001b[0m     \u001b[38;5;28;01mif\u001b[39;00m \u001b[43mromantic_movie1\u001b[49m\u001b[43m[\u001b[49m\u001b[38;5;241;43m0\u001b[39;49m\u001b[43m]\u001b[49m\u001b[43m \u001b[49m\u001b[38;5;129;43;01min\u001b[39;49;00m\u001b[43m \u001b[49m\u001b[43mmylist\u001b[49m:\n\u001b[0;32m      3\u001b[0m         \u001b[38;5;28mprint\u001b[39m(mylist, \u001b[38;5;28mstr\u001b[39m(romantic_movie1[\u001b[38;5;241m0\u001b[39m]))\n",
      "\u001b[1;31mTypeError\u001b[0m: argument of type 'int' is not iterable"
     ]
    }
   ],
   "source": [
    "for mylist in range (len(romantic_movie1)):\n",
    "    if romantic_movie1[0] in mylist:\n",
    "        print(mylist, str(romantic_movie1[0]))"
   ]
  },
  {
   "cell_type": "code",
   "execution_count": null,
   "id": "fa49cac7",
   "metadata": {},
   "outputs": [],
   "source": []
  }
 ],
 "metadata": {
  "kernelspec": {
   "display_name": "Python 3 (ipykernel)",
   "language": "python",
   "name": "python3"
  },
  "language_info": {
   "codemirror_mode": {
    "name": "ipython",
    "version": 3
   },
   "file_extension": ".py",
   "mimetype": "text/x-python",
   "name": "python",
   "nbconvert_exporter": "python",
   "pygments_lexer": "ipython3",
   "version": "3.9.12"
  }
 },
 "nbformat": 4,
 "nbformat_minor": 5
}
