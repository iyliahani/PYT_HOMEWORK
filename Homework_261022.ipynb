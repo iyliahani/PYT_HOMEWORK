{
 "cells": [
  {
   "cell_type": "markdown",
   "id": "8383b97c",
   "metadata": {},
   "source": [
    "# Conditional Flows"
   ]
  },
  {
   "cell_type": "code",
   "execution_count": 24,
   "id": "e107ed29",
   "metadata": {},
   "outputs": [],
   "source": [
    "x = 8\n",
    "y = 0\n",
    "a = \"Hello!\"\n",
    "b = \"\""
   ]
  },
  {
   "cell_type": "code",
   "execution_count": 25,
   "id": "66cbb5eb",
   "metadata": {},
   "outputs": [
    {
     "name": "stdout",
     "output_type": "stream",
     "text": [
      "False\n"
     ]
    }
   ],
   "source": [
    "# Check if x and b are both True. If they are, print \"Both of these are true.\"\n",
    "if x and b :\n",
    "    print (\" Both of these are true\")\n",
    "else :\n",
    "    print (\"False\")"
   ]
  },
  {
   "cell_type": "code",
   "execution_count": 26,
   "id": "048c6d0d",
   "metadata": {},
   "outputs": [
    {
     "name": "stdout",
     "output_type": "stream",
     "text": [
      " One of these is false\n"
     ]
    }
   ],
   "source": [
    "# Check if y or a is False. If one is, print \"One of these is false.\"\n",
    "if y or a :\n",
    "    print (\" One of these is false\")"
   ]
  },
  {
   "cell_type": "code",
   "execution_count": 28,
   "id": "796132c6",
   "metadata": {},
   "outputs": [
    {
     "name": "stdout",
     "output_type": "stream",
     "text": [
      "One is false\n"
     ]
    }
   ],
   "source": [
    "#Check if either x or y is False. If one is, print out \"One is false.\"\n",
    "if x or y :\n",
    "    print (\"One is false\")"
   ]
  },
  {
   "cell_type": "code",
   "execution_count": 39,
   "id": "dcff7885",
   "metadata": {},
   "outputs": [
    {
     "name": "stdout",
     "output_type": "stream",
     "text": [
      "8 is greater than  0\n"
     ]
    }
   ],
   "source": [
    "# Then, only if either x or y is False, check if x is greater than y. If it is, print out \"x is greater than y.\"\n",
    "if x or y : \n",
    "    if x > y:\n",
    "        print (x,\"is greater than \",y)"
   ]
  },
  {
   "cell_type": "markdown",
   "id": "23ee3660",
   "metadata": {},
   "source": [
    "# List"
   ]
  },
  {
   "cell_type": "code",
   "execution_count": 41,
   "id": "1b59f50d",
   "metadata": {},
   "outputs": [],
   "source": [
    "# 1. Save a list with the numbers 2, 4, 6, and 8 into a variable called numbers.\n",
    "numbers = [2,4,6,8]"
   ]
  },
  {
   "cell_type": "code",
   "execution_count": 43,
   "id": "d202c1fb",
   "metadata": {},
   "outputs": [
    {
     "name": "stdout",
     "output_type": "stream",
     "text": [
      "8\n"
     ]
    }
   ],
   "source": [
    "# 2. Print the max of numbers.\n",
    "print (max(numbers))"
   ]
  },
  {
   "cell_type": "code",
   "execution_count": 44,
   "id": "04a4593d",
   "metadata": {},
   "outputs": [
    {
     "name": "stdout",
     "output_type": "stream",
     "text": [
      "[2, 4, 8, 6]\n"
     ]
    }
   ],
   "source": [
    "# 3. Pop the last element in numbers; re-insert it at index 2.\n",
    "pop_number = numbers.pop(3)\n",
    "numbers.insert(2,8)\n",
    "print (numbers)"
   ]
  },
  {
   "cell_type": "code",
   "execution_count": 46,
   "id": "016d7359",
   "metadata": {},
   "outputs": [
    {
     "name": "stdout",
     "output_type": "stream",
     "text": [
      "[2, 8, 6]\n"
     ]
    }
   ],
   "source": [
    "# 4. Pop the second number in numbers off.\n",
    "pop_number = numbers.pop(1)\n",
    "print(numbers)\n"
   ]
  },
  {
   "cell_type": "code",
   "execution_count": 47,
   "id": "51a02a48",
   "metadata": {},
   "outputs": [
    {
     "name": "stdout",
     "output_type": "stream",
     "text": [
      "[2, 8, 6, 3]\n"
     ]
    }
   ],
   "source": [
    "# 5. Append 3 to numbers.\n",
    "numbers.insert(4,3)\n",
    "print(numbers)"
   ]
  },
  {
   "cell_type": "code",
   "execution_count": 49,
   "id": "4fbbac0d",
   "metadata": {},
   "outputs": [
    {
     "name": "stdout",
     "output_type": "stream",
     "text": [
      "4.75\n"
     ]
    }
   ],
   "source": [
    "# Print out the average number (divide the sum of numbers by the length).\n",
    "avg = sum(numbers)/len(numbers)\n",
    "print(avg)"
   ]
  },
  {
   "cell_type": "code",
   "execution_count": 50,
   "id": "3f67c773",
   "metadata": {},
   "outputs": [
    {
     "name": "stdout",
     "output_type": "stream",
     "text": [
      "[2, 8, 6, 3]\n"
     ]
    }
   ],
   "source": [
    "# 7. Print numbers.\n",
    "print(numbers)"
   ]
  },
  {
   "cell_type": "code",
   "execution_count": null,
   "id": "c84184f4",
   "metadata": {},
   "outputs": [],
   "source": []
  }
 ],
 "metadata": {
  "kernelspec": {
   "display_name": "Python 3 (ipykernel)",
   "language": "python",
   "name": "python3"
  },
  "language_info": {
   "codemirror_mode": {
    "name": "ipython",
    "version": 3
   },
   "file_extension": ".py",
   "mimetype": "text/x-python",
   "name": "python",
   "nbconvert_exporter": "python",
   "pygments_lexer": "ipython3",
   "version": "3.9.12"
  }
 },
 "nbformat": 4,
 "nbformat_minor": 5
}
